{
 "cells": [
  {
   "cell_type": "code",
   "execution_count": null,
   "metadata": {},
   "outputs": [],
   "source": [
    "import matplotlib.pyplot as plt\n",
    "import numpy as np\n",
    "import os\n",
    "import pandas as pd\n",
    "import plotly.graph_objects as go\n",
    "import webbrowser\n",
    "from scipy.optimize import curve_fit\n",
    "from sympy import *\n",
    "from utilsGraficas import oblique_graph, graficar_oblique_csv_plotly\n",
    "\n",
    "CSV_PATH = \"oblicuo120fps.csv\"\n",
    "\n",
    "def velocity(t, vo, g):\n",
    "  return(vo*t + - (0.5)*g*(t**2))\n",
    "\n",
    "df = pd.read_csv(CSV_PATH)\n",
    "#path_to_html = oblique_graph(df)\n",
    "#file_url = 'file://' + os.path.abspath(path_to_html).replace('\\\\', '/')\n",
    "#webbrowser.open(file_url)\n",
    "df = df.dropna().copy() # Elimino las filas que tienen NaNs\n",
    "initial_guess = [0, 9.81]\n",
    "#popt, pcov = curve_fit(velocity, xdata = df[\"Tiempo (s)\"], ydata = df[\"Velocidad X (m/s)\"])\n",
    "params, covariance = curve_fit(velocity, df[\"Tiempo (s)\"], df[\"Posición Y (m)\"], p0=initial_guess)\n",
    "v0y_est, g_est = params\n",
    "errs = np.sqrt(np.diag(covariance))\n",
    "print(params,errs)"
   ]
  },
  {
   "cell_type": "code",
   "execution_count": null,
   "metadata": {},
   "outputs": [],
   "source": [
    "#fig = go.Figure()\n",
    "#fig.add_traces(go.Scatter(x = df[\"Tiempo (s)\"], y = df[\"Velocidad X (m/s)\"], mode = 'markers'))\n",
    "#fig.add_traces(go.Scatter(x = df[\"Tiempo (s)\"], y = velocity(df[\"Tiempo (s)\"],params[0],params[1])))\n",
    "plt.scatter(df[\"Tiempo (s)\"], df[\"Posición Y (m)\"], label='Datos')\n",
    "plt.plot(df[\"Tiempo (s)\"], velocity(df[\"Tiempo (s)\"], *params), color='red', label='Ajuste')\n",
    "plt.xlabel('Tiempo (s)')\n",
    "plt.ylabel('Posición Y (m)')\n",
    "plt.legend()\n",
    "plt.show()\n"
   ]
  },
  {
   "cell_type": "code",
   "execution_count": null,
   "metadata": {},
   "outputs": [],
   "source": [
    "import numpy as np\n",
    "from scipy.optimize import curve_fit\n",
    "import matplotlib.pyplot as plt\n",
    "\n",
    "# Definimos una función modelo\n",
    "def modelo(x, a, b):\n",
    "    return a * x + b  # Lineal\n",
    "\n",
    "# Datos de ejemplo\n",
    "xdata = np.array([1, 2, 3, 4, 5])\n",
    "ydata = np.array([2.2, 2.8, 3.6, 4.5, 5.1])\n",
    "\n",
    "# Ajustamos la curva\n",
    "popt, pcov = curve_fit(modelo, xdata, ydata)\n",
    "\n",
    "# Mostramos los parámetros ajustados\n",
    "print(\"Parámetros ajustados:\", popt)\n",
    "\n",
    "# Graficamos\n",
    "plt.scatter(xdata, ydata, label='Datos')\n",
    "plt.plot(xdata, modelo(xdata, *popt), color='red', label='Ajuste')\n",
    "plt.legend()\n",
    "plt.show()"
   ]
  },
  {
   "cell_type": "code",
   "execution_count": null,
   "metadata": {},
   "outputs": [],
   "source": [
    "import numpy as np\n",
    "from scipy.optimize import curve_fit\n",
    "import matplotlib.pyplot as plt\n",
    "\n",
    "# Definimos una función cuadrática modelo\n",
    "def modelo(x, a, b, c):\n",
    "    return a * x**2 + b * x + c\n",
    "\n",
    "# Datos de ejemplo (con algo de ruido)\n",
    "xdata = np.array([0, 1, 2, 3, 4, 5])\n",
    "ydata = np.array([1.5, 2.0, 3.5, 6.0, 10.5, 15.0]) + np.random.normal(size=xdata.size)  # Agregamos ruido\n",
    "\n",
    "# Valores iniciales para a, b y c\n",
    "p0 = [1, 1, 1]  # Valores iniciales para a, b, c\n",
    "\n",
    "# Ajustamos la curva\n",
    "popt, pcov = curve_fit(modelo, xdata, ydata, p0=p0)\n",
    "\n",
    "# Mostramos los parámetros ajustados\n",
    "print(\"Parámetros ajustados:\", popt)\n",
    "\n",
    "# Graficamos\n",
    "plt.scatter(xdata, ydata, label='Datos', color='blue')\n",
    "plt.plot(xdata, modelo(xdata, *popt), color='red', label='Ajuste cuadrático')\n",
    "plt.legend()\n",
    "plt.xlabel('x')\n",
    "plt.ylabel('y')\n",
    "plt.title('Ajuste de curva con curve_fit')\n",
    "plt.show()"
   ]
  },
  {
   "cell_type": "code",
   "execution_count": 1,
   "metadata": {},
   "outputs": [
    {
     "ename": "IndexError",
     "evalue": "single positional indexer is out-of-bounds",
     "output_type": "error",
     "traceback": [
      "\u001b[1;31m---------------------------------------------------------------------------\u001b[0m",
      "\u001b[1;31mIndexError\u001b[0m                                Traceback (most recent call last)",
      "Cell \u001b[1;32mIn[1], line 11\u001b[0m\n\u001b[0;32m      7\u001b[0m \t\u001b[38;5;28;01mreturn\u001b[39;00m dataFrame[dataFrame[eje] \u001b[38;5;241m==\u001b[39m index]\u001b[38;5;241m.\u001b[39miloc[\u001b[38;5;241m0\u001b[39m]\n\u001b[0;32m     10\u001b[0m dataFrame \u001b[38;5;241m=\u001b[39m pd\u001b[38;5;241m.\u001b[39mread_csv(\u001b[38;5;124m\"\u001b[39m\u001b[38;5;124moblicuo240fps.csv\u001b[39m\u001b[38;5;124m\"\u001b[39m)\n\u001b[1;32m---> 11\u001b[0m \u001b[38;5;28mprint\u001b[39m(\u001b[43mobtener_velocidad_inicial\u001b[49m\u001b[43m(\u001b[49m\u001b[43mdataFrame\u001b[49m\u001b[43m,\u001b[49m\u001b[43m \u001b[49m\u001b[43mTIEMPO_VEL_INICIAL_OBLIQUE\u001b[49m\u001b[43m,\u001b[49m\u001b[43m \u001b[49m\u001b[38;5;124;43m'\u001b[39;49m\u001b[38;5;124;43mVelocidad X (m/s)\u001b[39;49m\u001b[38;5;124;43m'\u001b[39;49m\u001b[43m)\u001b[49m)\n",
      "Cell \u001b[1;32mIn[1], line 7\u001b[0m, in \u001b[0;36mobtener_velocidad_inicial\u001b[1;34m(dataFrame, tiempo, eje)\u001b[0m\n\u001b[0;32m      5\u001b[0m \u001b[38;5;28;01mdef\u001b[39;00m \u001b[38;5;21mobtener_velocidad_inicial\u001b[39m(dataFrame, tiempo, eje):\n\u001b[0;32m      6\u001b[0m \tindex \u001b[38;5;241m=\u001b[39m (dataFrame[\u001b[38;5;124m'\u001b[39m\u001b[38;5;124mTiempo (s)\u001b[39m\u001b[38;5;124m'\u001b[39m] \u001b[38;5;241m-\u001b[39m tiempo)\u001b[38;5;241m.\u001b[39mabs()\u001b[38;5;241m.\u001b[39midxmin()\n\u001b[1;32m----> 7\u001b[0m \t\u001b[38;5;28;01mreturn\u001b[39;00m \u001b[43mdataFrame\u001b[49m\u001b[43m[\u001b[49m\u001b[43mdataFrame\u001b[49m\u001b[43m[\u001b[49m\u001b[43meje\u001b[49m\u001b[43m]\u001b[49m\u001b[43m \u001b[49m\u001b[38;5;241;43m==\u001b[39;49m\u001b[43m \u001b[49m\u001b[43mindex\u001b[49m\u001b[43m]\u001b[49m\u001b[38;5;241;43m.\u001b[39;49m\u001b[43miloc\u001b[49m\u001b[43m[\u001b[49m\u001b[38;5;241;43m0\u001b[39;49m\u001b[43m]\u001b[49m\n",
      "File \u001b[1;32mc:\\Users\\ezequ\\Desktop\\Estudio\\UNS\\Cuarto año\\Segundo cuatrimestre\\Física IS\\Tracker\\F-sica-IS---Object-tracker\\.venv\\Lib\\site-packages\\pandas\\core\\indexing.py:1191\u001b[0m, in \u001b[0;36m_LocationIndexer.__getitem__\u001b[1;34m(self, key)\u001b[0m\n\u001b[0;32m   1189\u001b[0m maybe_callable \u001b[38;5;241m=\u001b[39m com\u001b[38;5;241m.\u001b[39mapply_if_callable(key, \u001b[38;5;28mself\u001b[39m\u001b[38;5;241m.\u001b[39mobj)\n\u001b[0;32m   1190\u001b[0m maybe_callable \u001b[38;5;241m=\u001b[39m \u001b[38;5;28mself\u001b[39m\u001b[38;5;241m.\u001b[39m_check_deprecated_callable_usage(key, maybe_callable)\n\u001b[1;32m-> 1191\u001b[0m \u001b[38;5;28;01mreturn\u001b[39;00m \u001b[38;5;28;43mself\u001b[39;49m\u001b[38;5;241;43m.\u001b[39;49m\u001b[43m_getitem_axis\u001b[49m\u001b[43m(\u001b[49m\u001b[43mmaybe_callable\u001b[49m\u001b[43m,\u001b[49m\u001b[43m \u001b[49m\u001b[43maxis\u001b[49m\u001b[38;5;241;43m=\u001b[39;49m\u001b[43maxis\u001b[49m\u001b[43m)\u001b[49m\n",
      "File \u001b[1;32mc:\\Users\\ezequ\\Desktop\\Estudio\\UNS\\Cuarto año\\Segundo cuatrimestre\\Física IS\\Tracker\\F-sica-IS---Object-tracker\\.venv\\Lib\\site-packages\\pandas\\core\\indexing.py:1752\u001b[0m, in \u001b[0;36m_iLocIndexer._getitem_axis\u001b[1;34m(self, key, axis)\u001b[0m\n\u001b[0;32m   1749\u001b[0m     \u001b[38;5;28;01mraise\u001b[39;00m \u001b[38;5;167;01mTypeError\u001b[39;00m(\u001b[38;5;124m\"\u001b[39m\u001b[38;5;124mCannot index by location index with a non-integer key\u001b[39m\u001b[38;5;124m\"\u001b[39m)\n\u001b[0;32m   1751\u001b[0m \u001b[38;5;66;03m# validate the location\u001b[39;00m\n\u001b[1;32m-> 1752\u001b[0m \u001b[38;5;28;43mself\u001b[39;49m\u001b[38;5;241;43m.\u001b[39;49m\u001b[43m_validate_integer\u001b[49m\u001b[43m(\u001b[49m\u001b[43mkey\u001b[49m\u001b[43m,\u001b[49m\u001b[43m \u001b[49m\u001b[43maxis\u001b[49m\u001b[43m)\u001b[49m\n\u001b[0;32m   1754\u001b[0m \u001b[38;5;28;01mreturn\u001b[39;00m \u001b[38;5;28mself\u001b[39m\u001b[38;5;241m.\u001b[39mobj\u001b[38;5;241m.\u001b[39m_ixs(key, axis\u001b[38;5;241m=\u001b[39maxis)\n",
      "File \u001b[1;32mc:\\Users\\ezequ\\Desktop\\Estudio\\UNS\\Cuarto año\\Segundo cuatrimestre\\Física IS\\Tracker\\F-sica-IS---Object-tracker\\.venv\\Lib\\site-packages\\pandas\\core\\indexing.py:1685\u001b[0m, in \u001b[0;36m_iLocIndexer._validate_integer\u001b[1;34m(self, key, axis)\u001b[0m\n\u001b[0;32m   1683\u001b[0m len_axis \u001b[38;5;241m=\u001b[39m \u001b[38;5;28mlen\u001b[39m(\u001b[38;5;28mself\u001b[39m\u001b[38;5;241m.\u001b[39mobj\u001b[38;5;241m.\u001b[39m_get_axis(axis))\n\u001b[0;32m   1684\u001b[0m \u001b[38;5;28;01mif\u001b[39;00m key \u001b[38;5;241m>\u001b[39m\u001b[38;5;241m=\u001b[39m len_axis \u001b[38;5;129;01mor\u001b[39;00m key \u001b[38;5;241m<\u001b[39m \u001b[38;5;241m-\u001b[39mlen_axis:\n\u001b[1;32m-> 1685\u001b[0m     \u001b[38;5;28;01mraise\u001b[39;00m \u001b[38;5;167;01mIndexError\u001b[39;00m(\u001b[38;5;124m\"\u001b[39m\u001b[38;5;124msingle positional indexer is out-of-bounds\u001b[39m\u001b[38;5;124m\"\u001b[39m)\n",
      "\u001b[1;31mIndexError\u001b[0m: single positional indexer is out-of-bounds"
     ]
    }
   ],
   "source": [
    "import pandas as pd\n",
    "\n",
    "TIEMPO_VEL_INICIAL_OBLIQUE = 1.95\n",
    "\n",
    "def obtener_velocidad_inicial(dataFrame, tiempo, eje):\n",
    "\tindex = (dataFrame['Tiempo (s)'] - tiempo).abs().idxmin()\n",
    "\tprint(index)\n",
    "\treturn dataFrame[dataFrame[eje] == index].iloc[0]\n",
    "\n",
    "\n",
    "dataFrame = pd.read_csv(\"oblicuo240fps.csv\")\n",
    "print(obtener_velocidad_inicial(dataFrame, TIEMPO_VEL_INICIAL_OBLIQUE, 'Velocidad X (m/s)'))"
   ]
  }
 ],
 "metadata": {
  "kernelspec": {
   "display_name": ".venv",
   "language": "python",
   "name": "python3"
  },
  "language_info": {
   "codemirror_mode": {
    "name": "ipython",
    "version": 3
   },
   "file_extension": ".py",
   "mimetype": "text/x-python",
   "name": "python",
   "nbconvert_exporter": "python",
   "pygments_lexer": "ipython3",
   "version": "3.12.1"
  }
 },
 "nbformat": 4,
 "nbformat_minor": 2
}
